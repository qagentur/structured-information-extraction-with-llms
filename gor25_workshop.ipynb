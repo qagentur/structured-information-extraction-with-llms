{
  "cells": [
    {
      "cell_type": "markdown",
      "metadata": {
        "id": "IiAmUsx92hbY"
      },
      "source": [
        "# Workshop: Structured information extraction with LLMs\n",
        "\n",
        "## Installation\n",
        "\n",
        "Switch to a T4 GPU.\n",
        "\n",
        "Install required Python packages.\n",
        "\n",
        "We use:\n",
        "\n",
        "- `llama-cpp-python` for running the LLM\n",
        "- `instructor` for structured outputs\n",
        "- `polars` for data manipulation\n",
        "\n",
        "These need to be installed with GPU support.\n"
      ]
    },
    {
      "cell_type": "code",
      "execution_count": null,
      "metadata": {
        "id": "p0qxtBPu7Qqa"
      },
      "outputs": [],
      "source": [
        "# Instructions for GPU install: https://github.com/abetlen/llama-cpp-python/issues/576#issuecomment-2379861701\n",
        "import os\n",
        "os.environ[\"CMAKE_ARGS\"]=\"-DLLAMA_CUBLAS=on\"\n",
        "os.environ[\"FORCE_CMAKE\"]=\"1\""
      ]
    },
    {
      "cell_type": "markdown",
      "metadata": {
        "id": "_1DGSveO8MpR"
      },
      "source": [
        "Check that the GPU is available."
      ]
    },
    {
      "cell_type": "code",
      "execution_count": null,
      "metadata": {
        "colab": {
          "base_uri": "https://localhost:8080/"
        },
        "id": "fy9vx9KD70OB",
        "outputId": "a6201118-36ab-4b29-dfef-c3cc16ffe240"
      },
      "outputs": [
        {
          "name": "stdout",
          "output_type": "stream",
          "text": [
            "Mon Mar 17 14:36:48 2025       \n",
            "+-----------------------------------------------------------------------------------------+\n",
            "| NVIDIA-SMI 550.54.15              Driver Version: 550.54.15      CUDA Version: 12.4     |\n",
            "|-----------------------------------------+------------------------+----------------------+\n",
            "| GPU  Name                 Persistence-M | Bus-Id          Disp.A | Volatile Uncorr. ECC |\n",
            "| Fan  Temp   Perf          Pwr:Usage/Cap |           Memory-Usage | GPU-Util  Compute M. |\n",
            "|                                         |                        |               MIG M. |\n",
            "|=========================================+========================+======================|\n",
            "|   0  Tesla T4                       Off |   00000000:00:04.0 Off |                    0 |\n",
            "| N/A   65C    P8             12W /   70W |       0MiB /  15360MiB |      0%      Default |\n",
            "|                                         |                        |                  N/A |\n",
            "+-----------------------------------------+------------------------+----------------------+\n",
            "                                                                                         \n",
            "+-----------------------------------------------------------------------------------------+\n",
            "| Processes:                                                                              |\n",
            "|  GPU   GI   CI        PID   Type   Process name                              GPU Memory |\n",
            "|        ID   ID                                                               Usage      |\n",
            "|=========================================================================================|\n",
            "|  No running processes found                                                             |\n",
            "+-----------------------------------------------------------------------------------------+\n"
          ]
        }
      ],
      "source": [
        "!nvidia-smi"
      ]
    },
    {
      "cell_type": "code",
      "execution_count": null,
      "metadata": {
        "colab": {
          "base_uri": "https://localhost:8080/"
        },
        "id": "1iMkAYZx2hba",
        "outputId": "cf0f6140-c7b2-4dfc-8220-e61991ce5a42"
      },
      "outputs": [
        {
          "name": "stdout",
          "output_type": "stream",
          "text": [
            "Looking in indexes: https://pypi.org/simple, https://abetlen.github.io/llama-cpp-python/whl/cu122\n",
            "Collecting llama-cpp-python==0.3.4\n",
            "  Downloading https://github.com/abetlen/llama-cpp-python/releases/download/v0.3.4-cu122/llama_cpp_python-0.3.4-cp311-cp311-linux_x86_64.whl (445.2 MB)\n",
            "\u001b[2K     \u001b[90m━━━━━━━━━━━━━━━━━━━━━━━━━━━━━━━━━━━━━━━━\u001b[0m \u001b[32m445.2/445.2 MB\u001b[0m \u001b[31m83.0 MB/s\u001b[0m eta \u001b[36m0:00:00\u001b[0m\n",
            "\u001b[?25hRequirement already satisfied: typing-extensions>=4.5.0 in /usr/local/lib/python3.11/dist-packages (from llama-cpp-python==0.3.4) (4.12.2)\n",
            "Requirement already satisfied: numpy>=1.20.0 in /usr/local/lib/python3.11/dist-packages (from llama-cpp-python==0.3.4) (2.0.2)\n",
            "Collecting diskcache>=5.6.1 (from llama-cpp-python==0.3.4)\n",
            "  Downloading diskcache-5.6.3-py3-none-any.whl.metadata (20 kB)\n",
            "Requirement already satisfied: jinja2>=2.11.3 in /usr/local/lib/python3.11/dist-packages (from llama-cpp-python==0.3.4) (3.1.6)\n",
            "Requirement already satisfied: MarkupSafe>=2.0 in /usr/local/lib/python3.11/dist-packages (from jinja2>=2.11.3->llama-cpp-python==0.3.4) (3.0.2)\n",
            "Downloading diskcache-5.6.3-py3-none-any.whl (45 kB)\n",
            "\u001b[2K   \u001b[90m━━━━━━━━━━━━━━━━━━━━━━━━━━━━━━━━━━━━━━━━\u001b[0m \u001b[32m45.5/45.5 kB\u001b[0m \u001b[31m26.1 MB/s\u001b[0m eta \u001b[36m0:00:00\u001b[0m\n",
            "\u001b[?25hInstalling collected packages: diskcache, llama-cpp-python\n",
            "Successfully installed diskcache-5.6.3 llama-cpp-python-0.3.4\n",
            "Collecting instructor==1.7.2\n",
            "  Downloading instructor-1.7.2-py3-none-any.whl.metadata (18 kB)\n",
            "Requirement already satisfied: aiohttp<4.0.0,>=3.9.1 in /usr/local/lib/python3.11/dist-packages (from instructor==1.7.2) (3.11.14)\n",
            "Requirement already satisfied: docstring-parser<1.0,>=0.16 in /usr/local/lib/python3.11/dist-packages (from instructor==1.7.2) (0.16)\n",
            "Requirement already satisfied: jinja2<4.0.0,>=3.1.4 in /usr/local/lib/python3.11/dist-packages (from instructor==1.7.2) (3.1.6)\n",
            "Collecting jiter<0.9,>=0.6.1 (from instructor==1.7.2)\n",
            "  Downloading jiter-0.8.2-cp311-cp311-manylinux_2_17_x86_64.manylinux2014_x86_64.whl.metadata (5.2 kB)\n",
            "Requirement already satisfied: openai<2.0.0,>=1.52.0 in /usr/local/lib/python3.11/dist-packages (from instructor==1.7.2) (1.68.2)\n",
            "Requirement already satisfied: pydantic-core<3.0.0,>=2.18.0 in /usr/local/lib/python3.11/dist-packages (from instructor==1.7.2) (2.27.2)\n",
            "Requirement already satisfied: pydantic<3.0.0,>=2.8.0 in /usr/local/lib/python3.11/dist-packages (from instructor==1.7.2) (2.10.6)\n",
            "Requirement already satisfied: requests<3.0.0,>=2.32.3 in /usr/local/lib/python3.11/dist-packages (from instructor==1.7.2) (2.32.3)\n",
            "Requirement already satisfied: rich<14.0.0,>=13.7.0 in /usr/local/lib/python3.11/dist-packages (from instructor==1.7.2) (13.9.4)\n",
            "Requirement already satisfied: tenacity<10.0.0,>=9.0.0 in /usr/local/lib/python3.11/dist-packages (from instructor==1.7.2) (9.0.0)\n",
            "Requirement already satisfied: typer<1.0.0,>=0.9.0 in /usr/local/lib/python3.11/dist-packages (from instructor==1.7.2) (0.15.2)\n",
            "Requirement already satisfied: aiohappyeyeballs>=2.3.0 in /usr/local/lib/python3.11/dist-packages (from aiohttp<4.0.0,>=3.9.1->instructor==1.7.2) (2.6.1)\n",
            "Requirement already satisfied: aiosignal>=1.1.2 in /usr/local/lib/python3.11/dist-packages (from aiohttp<4.0.0,>=3.9.1->instructor==1.7.2) (1.3.2)\n",
            "Requirement already satisfied: attrs>=17.3.0 in /usr/local/lib/python3.11/dist-packages (from aiohttp<4.0.0,>=3.9.1->instructor==1.7.2) (25.3.0)\n",
            "Requirement already satisfied: frozenlist>=1.1.1 in /usr/local/lib/python3.11/dist-packages (from aiohttp<4.0.0,>=3.9.1->instructor==1.7.2) (1.5.0)\n",
            "Requirement already satisfied: multidict<7.0,>=4.5 in /usr/local/lib/python3.11/dist-packages (from aiohttp<4.0.0,>=3.9.1->instructor==1.7.2) (6.2.0)\n",
            "Requirement already satisfied: propcache>=0.2.0 in /usr/local/lib/python3.11/dist-packages (from aiohttp<4.0.0,>=3.9.1->instructor==1.7.2) (0.3.0)\n",
            "Requirement already satisfied: yarl<2.0,>=1.17.0 in /usr/local/lib/python3.11/dist-packages (from aiohttp<4.0.0,>=3.9.1->instructor==1.7.2) (1.18.3)\n",
            "Requirement already satisfied: MarkupSafe>=2.0 in /usr/local/lib/python3.11/dist-packages (from jinja2<4.0.0,>=3.1.4->instructor==1.7.2) (3.0.2)\n",
            "Requirement already satisfied: anyio<5,>=3.5.0 in /usr/local/lib/python3.11/dist-packages (from openai<2.0.0,>=1.52.0->instructor==1.7.2) (4.9.0)\n",
            "Requirement already satisfied: distro<2,>=1.7.0 in /usr/local/lib/python3.11/dist-packages (from openai<2.0.0,>=1.52.0->instructor==1.7.2) (1.9.0)\n",
            "Requirement already satisfied: httpx<1,>=0.23.0 in /usr/local/lib/python3.11/dist-packages (from openai<2.0.0,>=1.52.0->instructor==1.7.2) (0.28.1)\n",
            "Requirement already satisfied: sniffio in /usr/local/lib/python3.11/dist-packages (from openai<2.0.0,>=1.52.0->instructor==1.7.2) (1.3.1)\n",
            "Requirement already satisfied: tqdm>4 in /usr/local/lib/python3.11/dist-packages (from openai<2.0.0,>=1.52.0->instructor==1.7.2) (4.67.1)\n",
            "Requirement already satisfied: typing-extensions<5,>=4.11 in /usr/local/lib/python3.11/dist-packages (from openai<2.0.0,>=1.52.0->instructor==1.7.2) (4.12.2)\n",
            "Requirement already satisfied: annotated-types>=0.6.0 in /usr/local/lib/python3.11/dist-packages (from pydantic<3.0.0,>=2.8.0->instructor==1.7.2) (0.7.0)\n",
            "Requirement already satisfied: charset-normalizer<4,>=2 in /usr/local/lib/python3.11/dist-packages (from requests<3.0.0,>=2.32.3->instructor==1.7.2) (3.4.1)\n",
            "Requirement already satisfied: idna<4,>=2.5 in /usr/local/lib/python3.11/dist-packages (from requests<3.0.0,>=2.32.3->instructor==1.7.2) (3.10)\n",
            "Requirement already satisfied: urllib3<3,>=1.21.1 in /usr/local/lib/python3.11/dist-packages (from requests<3.0.0,>=2.32.3->instructor==1.7.2) (2.3.0)\n",
            "Requirement already satisfied: certifi>=2017.4.17 in /usr/local/lib/python3.11/dist-packages (from requests<3.0.0,>=2.32.3->instructor==1.7.2) (2025.1.31)\n",
            "Requirement already satisfied: markdown-it-py>=2.2.0 in /usr/local/lib/python3.11/dist-packages (from rich<14.0.0,>=13.7.0->instructor==1.7.2) (3.0.0)\n",
            "Requirement already satisfied: pygments<3.0.0,>=2.13.0 in /usr/local/lib/python3.11/dist-packages (from rich<14.0.0,>=13.7.0->instructor==1.7.2) (2.18.0)\n",
            "Requirement already satisfied: click>=8.0.0 in /usr/local/lib/python3.11/dist-packages (from typer<1.0.0,>=0.9.0->instructor==1.7.2) (8.1.8)\n",
            "Requirement already satisfied: shellingham>=1.3.0 in /usr/local/lib/python3.11/dist-packages (from typer<1.0.0,>=0.9.0->instructor==1.7.2) (1.5.4)\n",
            "Requirement already satisfied: httpcore==1.* in /usr/local/lib/python3.11/dist-packages (from httpx<1,>=0.23.0->openai<2.0.0,>=1.52.0->instructor==1.7.2) (1.0.7)\n",
            "Requirement already satisfied: h11<0.15,>=0.13 in /usr/local/lib/python3.11/dist-packages (from httpcore==1.*->httpx<1,>=0.23.0->openai<2.0.0,>=1.52.0->instructor==1.7.2) (0.14.0)\n",
            "Requirement already satisfied: mdurl~=0.1 in /usr/local/lib/python3.11/dist-packages (from markdown-it-py>=2.2.0->rich<14.0.0,>=13.7.0->instructor==1.7.2) (0.1.2)\n",
            "Downloading instructor-1.7.2-py3-none-any.whl (71 kB)\n",
            "\u001b[2K   \u001b[90m━━━━━━━━━━━━━━━━━━━━━━━━━━━━━━━━━━━━━━━━\u001b[0m \u001b[32m71.4/71.4 kB\u001b[0m \u001b[31m4.9 MB/s\u001b[0m eta \u001b[36m0:00:00\u001b[0m\n",
            "\u001b[?25hDownloading jiter-0.8.2-cp311-cp311-manylinux_2_17_x86_64.manylinux2014_x86_64.whl (345 kB)\n",
            "\u001b[2K   \u001b[90m━━━━━━━━━━━━━━━━━━━━━━━━━━━━━━━━━━━━━━━━\u001b[0m \u001b[32m345.6/345.6 kB\u001b[0m \u001b[31m19.0 MB/s\u001b[0m eta \u001b[36m0:00:00\u001b[0m\n",
            "\u001b[?25hInstalling collected packages: jiter, instructor\n",
            "  Attempting uninstall: jiter\n",
            "    Found existing installation: jiter 0.9.0\n",
            "    Uninstalling jiter-0.9.0:\n",
            "      Successfully uninstalled jiter-0.9.0\n",
            "Successfully installed instructor-1.7.2 jiter-0.8.2\n",
            "Collecting polars==1.20.0\n",
            "  Downloading polars-1.20.0-cp39-abi3-manylinux_2_17_x86_64.manylinux2014_x86_64.whl.metadata (14 kB)\n",
            "Downloading polars-1.20.0-cp39-abi3-manylinux_2_17_x86_64.manylinux2014_x86_64.whl (32.9 MB)\n",
            "\u001b[2K   \u001b[90m━━━━━━━━━━━━━━━━━━━━━━━━━━━━━━━━━━━━━━━━\u001b[0m \u001b[32m32.9/32.9 MB\u001b[0m \u001b[31m11.1 MB/s\u001b[0m eta \u001b[36m0:00:00\u001b[0m\n",
            "\u001b[?25hInstalling collected packages: polars\n",
            "  Attempting uninstall: polars\n",
            "    Found existing installation: polars 1.21.0\n",
            "    Uninstalling polars-1.21.0:\n",
            "      Successfully uninstalled polars-1.21.0\n",
            "Successfully installed polars-1.20.0\n"
          ]
        }
      ],
      "source": [
        "!pip install --no-cache-dir llama-cpp-python==0.3.4 --extra-index-url https://abetlen.github.io/llama-cpp-python/whl/cu122\n",
        "!pip install instructor==1.7.2\n",
        "!pip install polars==1.20.0"
      ]
    },
    {
      "cell_type": "markdown",
      "metadata": {
        "id": "q37Pirjn2hba"
      },
      "source": [
        "## Run an LLM locally\n",
        "\n",
        "We will run an LLM on Google Colab using Llama.cpp, a highly optimized C++ inference engine for LLMs. It enables running LLMs on laptop-grade hardware.\n",
        "\n",
        "First, we download an open source model from Hugging Face hub. It's **Hermes-3-Llama-3.2-3B**, which is a modified version of Meta's Llama 3.2. It has 3 billion parameters. The developers at Nous Research have quantized it to 4-bit precision. This makes the model faster and smaller, at the cost of some accuracy. We will use it throughout the workshop. Larger models are typically better, so if something doesn't work, it may be because the model is too small.\n"
      ]
    },
    {
      "cell_type": "code",
      "execution_count": null,
      "metadata": {
        "colab": {
          "base_uri": "https://localhost:8080/",
          "height": 284,
          "referenced_widgets": [
            "fefc5a3785cc46a0ba970e6bc403c815",
            "d7ab1cfb6ee14241b39a42f6d36fe765",
            "5ea4adf815fe449e8834feb4a81de54a",
            "595748bbc58447e1adc0decdbec97c71",
            "15f55590a91449ca9364563479fe2ebe",
            "666d53f913014b4ba96a912744487566",
            "00b3da6cf13a444fb2007fe588084d5f",
            "29f0abc6255b4189bf7b6f702677d8b5",
            "bbe94256128948a38f37958c14c9c980",
            "8f46325d1d0c47a2b8da4651d1b1c5d9",
            "981b9858e6184918b75ce6c76ea8d0db",
            "2846fed283f84cd6a8481ce877cd2890",
            "1b4a5dedd5fa4d0e9bd7633c9202c28a",
            "bcca64afaad844d7a4b1ffc73dc924e3",
            "7a3911125d2142349a038809efc0e6e4",
            "cb48d541db004aad8ca3aaee7ccac6cf",
            "71808e802e074ad3b4c4418e34fa9c3e",
            "2d3c6a8bd3424bcc9cda72c1d9937021",
            "0e9bbbd2ea5f46e0bedda08ba3bad3f3",
            "20b38ccbddfe48fab25977fe37efb070",
            "d69dbdd5d1d849e8859163037391969c",
            "ac7a457b76414f648168b39bf321d714",
            "5b44407255984c1f9f4bcc3cabc12b04",
            "6a203a3f064c4120833c4142d8f89d22",
            "8735f9c1ffd94aa1890de8e01856f594",
            "8fdcaca41fb44b4eb46ab0c27fe9060e",
            "072c7be55f96481692e5622816409a6e",
            "f52ab2db7baf4ba782f609cd1d3731f6",
            "0ec49f7015bb4098824010909329e8d0",
            "bbdb551844ce4c9790c20d2498125e26",
            "b3e6c79f950a40b3b247fc3cbc6570d7",
            "a0357ebb32c44871b90a2369d5f74121",
            "f92746cca1004fc889cbbc8f98644454",
            "deb32c93ea814027b2bac91ffbd697c3",
            "2e5bad9b6d8b4587a2af9e11ec99812e",
            "6dcc35ceed054d5093f77dd0a993504f",
            "16b6d5cfd2374ca98b9a0b1bbb9dc7c3",
            "31e5fa603c304ce3bb46cab1b30672a9",
            "405e38db204543e782d7199cf83a397b",
            "de818740b76145e183b3237d7ff75bc3",
            "e48a0a0022db4563b4431c7f122f2777",
            "6394ca1515e44a0daaa11111e820d0ca",
            "35e24438429246669840e7bbcfef4b33",
            "0b905233f0cd41bab8ee335ddc5fec9b"
          ]
        },
        "id": "8nLmHIFJ2hbb",
        "outputId": "f70b6495-1217-4bf7-e774-ddcbe2767a1e"
      },
      "outputs": [
        {
          "name": "stderr",
          "output_type": "stream",
          "text": [
            "/usr/local/lib/python3.11/dist-packages/huggingface_hub/utils/_auth.py:94: UserWarning: \n",
            "The secret `HF_TOKEN` does not exist in your Colab secrets.\n",
            "To authenticate with the Hugging Face Hub, create a token in your settings tab (https://huggingface.co/settings/tokens), set it as secret in your Google Colab and restart your session.\n",
            "You will be able to reuse this secret in all of your notebooks.\n",
            "Please note that authentication is recommended but still optional to access public models or datasets.\n",
            "  warnings.warn(\n"
          ]
        },
        {
          "data": {
            "application/vnd.jupyter.widget-view+json": {
              "model_id": "fefc5a3785cc46a0ba970e6bc403c815",
              "version_major": 2,
              "version_minor": 0
            },
            "text/plain": [
              "tokenizer_config.json:   0%|          | 0.00/50.3k [00:00<?, ?B/s]"
            ]
          },
          "metadata": {},
          "output_type": "display_data"
        },
        {
          "data": {
            "application/vnd.jupyter.widget-view+json": {
              "model_id": "2846fed283f84cd6a8481ce877cd2890",
              "version_major": 2,
              "version_minor": 0
            },
            "text/plain": [
              "tokenizer.json:   0%|          | 0.00/9.09M [00:00<?, ?B/s]"
            ]
          },
          "metadata": {},
          "output_type": "display_data"
        },
        {
          "data": {
            "application/vnd.jupyter.widget-view+json": {
              "model_id": "5b44407255984c1f9f4bcc3cabc12b04",
              "version_major": 2,
              "version_minor": 0
            },
            "text/plain": [
              "special_tokens_map.json:   0%|          | 0.00/444 [00:00<?, ?B/s]"
            ]
          },
          "metadata": {},
          "output_type": "display_data"
        },
        {
          "data": {
            "application/vnd.jupyter.widget-view+json": {
              "model_id": "deb32c93ea814027b2bac91ffbd697c3",
              "version_major": 2,
              "version_minor": 0
            },
            "text/plain": [
              "Hermes-3-Llama-3.2-3B.Q4_K_M.gguf:   0%|          | 0.00/2.02G [00:00<?, ?B/s]"
            ]
          },
          "metadata": {},
          "output_type": "display_data"
        },
        {
          "name": "stderr",
          "output_type": "stream",
          "text": [
            "llama_new_context_with_model: n_ctx_per_seq (8192) < n_ctx_train (131072) -- the full capacity of the model will not be utilized\n"
          ]
        }
      ],
      "source": [
        "import llama_cpp\n",
        "from llama_cpp.llama_speculative import LlamaPromptLookupDecoding\n",
        "\n",
        "# Load model:\n",
        "# https://huggingface.co/NousResearch/Hermes-3-Llama-3.2-3B-GGUF\n",
        "\n",
        "llama = llama_cpp.Llama.from_pretrained(\n",
        "    repo_id=\"NousResearch/Hermes-3-Llama-3.2-3B-GGUF\",\n",
        "    filename=\"Hermes-3-Llama-3.2-3B.Q4_K_M.gguf\",\n",
        "    tokenizer=llama_cpp.llama_tokenizer.LlamaHFTokenizer.from_pretrained(\n",
        "      \"NousResearch/Hermes-3-Llama-3.2-3B\"\n",
        "    ),\n",
        "    n_gpu_layers=-1,\n",
        "    chat_format=\"chatml\",\n",
        "    n_ctx=8192,\n",
        "    draft_model=LlamaPromptLookupDecoding(num_pred_tokens=2),\n",
        "    logits_all=True,\n",
        "    verbose=False,\n",
        ")\n"
      ]
    },
    {
      "cell_type": "markdown",
      "metadata": {
        "id": "VqGfAGj-2hbc"
      },
      "source": [
        "Let's test our model with a text classification task."
      ]
    },
    {
      "cell_type": "code",
      "execution_count": null,
      "metadata": {
        "colab": {
          "base_uri": "https://localhost:8080/"
        },
        "id": "PSijVynS2hbc",
        "outputId": "797014e6-4bb2-47cf-9cda-e6efebb3e2d7"
      },
      "outputs": [
        {
          "name": "stdout",
          "output_type": "stream",
          "text": [
            "The news article \"Apple announces new iPhone with revolutionary AI features\" would be classified as Sci/Tech.\n"
          ]
        }
      ],
      "source": [
        "response = llama.create_chat_completion_openai_v1(\n",
        "    messages=[\n",
        "        {\"role\": \"user\", \"content\": \"Classify the following news article as either World, Sports, Business or Sci/Tech: `Apple delays launch of LLM-enhanced Siri assistant`\"},\n",
        "    ],\n",
        ")\n",
        "\n",
        "print(response.choices[0].message.content)\n"
      ]
    },
    {
      "cell_type": "markdown",
      "metadata": {
        "id": "xS4JW7yc2hbc"
      },
      "source": [
        "The answer is correct, but it's not structured. We can't easily use it in data analysis. We could ask the model to only return the category, but it may still add extra comments, formatting or other text. Instead, we can force it to always return a valid JSON object."
      ]
    },
    {
      "cell_type": "markdown",
      "metadata": {
        "id": "smfgy_B-2hbc"
      },
      "source": [
        "## Structured outputs with instructor\n",
        "\n",
        "Structured information extraction works best with structured outputs. We will use the instructor package for that. This is possible because llama.cpp and instructor both accept the OpenAI API specification, which has become an industry standard."
      ]
    },
    {
      "cell_type": "code",
      "execution_count": null,
      "metadata": {
        "id": "9dluCVeg2hbc"
      },
      "outputs": [],
      "source": [
        "import instructor\n",
        "\n",
        "create = instructor.patch(\n",
        "    create=llama.create_chat_completion_openai_v1,\n",
        "    mode=instructor.Mode.JSON_SCHEMA,\n",
        ")"
      ]
    },
    {
      "cell_type": "markdown",
      "metadata": {
        "id": "om8Z1fk5-wy8"
      },
      "source": [
        "## Alternative: Connect with OpenAI API\n",
        "\n",
        "Uncomment the code chunk below and place your OpenAI API key in it. Alternatively, rewrite this chunk to connect to another LLM API that is compatible with instructor. See the instructor [documentation](https://python.useinstructor.com/integrations/) for more details."
      ]
    },
    {
      "cell_type": "code",
      "execution_count": null,
      "metadata": {
        "id": "zzHSRSVH-sZm"
      },
      "outputs": [],
      "source": [
        "#import instructor\n",
        "#from openai import OpenAI\n",
        "#from functools import partial\n",
        "\n",
        "#client = instructor.from_openai(OpenAI(api_key=\"<your-api-key>\"))\n",
        "# Simplify the function to create a chat completion\n",
        "#create = partial(client.chat.completions.create, model=\"gpt-4o-mini\")"
      ]
    },
    {
      "cell_type": "markdown",
      "metadata": {
        "id": "BqxQab862hbd"
      },
      "source": [
        "### Text classification\n",
        "\n",
        "Let's do the same text classification task, but now with structured output."
      ]
    },
    {
      "cell_type": "code",
      "execution_count": null,
      "metadata": {
        "colab": {
          "base_uri": "https://localhost:8080/"
        },
        "id": "mlf7TpQZ2hbd",
        "outputId": "74e364e5-6127-4806-96e4-d1741caa6500"
      },
      "outputs": [
        {
          "name": "stdout",
          "output_type": "stream",
          "text": [
            "category='Sci/Tech'\n"
          ]
        }
      ],
      "source": [
        "from typing import Literal\n",
        "from pydantic import BaseModel\n",
        "\n",
        "class NewsCategory(BaseModel):\n",
        "    category: Literal[\"World\", \"Sports\", \"Business\", \"Sci/Tech\"]\n",
        "\n",
        "\n",
        "news_category = create(\n",
        "    messages=[\n",
        "        {\n",
        "            \"role\": \"user\",\n",
        "            \"content\": \"Classify this news article into a category: `Apple announces new iPhone with revolutionary AI features`\",\n",
        "        }\n",
        "    ],\n",
        "    response_model=NewsCategory,\n",
        ")\n",
        "\n",
        "print(news_category)\n"
      ]
    },
    {
      "cell_type": "markdown",
      "metadata": {
        "id": "b-xSRhRg2hbd"
      },
      "source": [
        "### Named entity recognition\n",
        "\n",
        "Let's try named entity recognition."
      ]
    },
    {
      "cell_type": "code",
      "execution_count": null,
      "metadata": {
        "colab": {
          "base_uri": "https://localhost:8080/"
        },
        "id": "YMWfkcJN2hbd",
        "outputId": "f91f30ab-4bbf-4e99-b9b1-bc39331af601"
      },
      "outputs": [
        {
          "name": "stdout",
          "output_type": "stream",
          "text": [
            "entities=[Entity(text='John Smith', type='PERSON'), Entity(text='Microsoft', type='ORGANIZATION'), Entity(text='headquarters', type='LOCATION'), Entity(text='Seattle', type='LOCATION'), Entity(text='last Tuesday', type='DATE')]\n"
          ]
        }
      ],
      "source": [
        "from typing import List\n",
        "\n",
        "class Entity(BaseModel):\n",
        "    text: str\n",
        "    type: Literal[\"PERSON\", \"ORGANIZATION\", \"LOCATION\", \"DATE\", \"OTHER\"]\n",
        "\n",
        "class NamedEntities(BaseModel):\n",
        "    entities: List[Entity]\n",
        "\n",
        "entities = create(\n",
        "    messages=[\n",
        "        {\n",
        "            \"role\": \"user\",\n",
        "            \"content\": \"Extract named entities from this text: 'John Smith visited Microsoft headquarters in Seattle last Tuesday'\"\n",
        "        }\n",
        "    ],\n",
        "    response_model=NamedEntities,\n",
        ")\n",
        "\n",
        "print(entities)\n"
      ]
    },
    {
      "cell_type": "markdown",
      "metadata": {
        "id": "GSybKcnB2hbd"
      },
      "source": [
        "### Aspect-based sentiment analysis\n",
        "\n",
        "Let's try aspect-based sentiment analysis."
      ]
    },
    {
      "cell_type": "code",
      "execution_count": null,
      "metadata": {
        "colab": {
          "base_uri": "https://localhost:8080/"
        },
        "id": "D0hcC2Cx2hbd",
        "outputId": "adf716a2-e960-4ac0-f7b8-664d80aca231"
      },
      "outputs": [
        {
          "name": "stdout",
          "output_type": "stream",
          "text": [
            "aspect='cheeseburger' polarity='positive'\n"
          ]
        }
      ],
      "source": [
        "from typing import Literal\n",
        "from pydantic import BaseModel\n",
        "\n",
        "class Sentiment(BaseModel):\n",
        "    aspect: str\n",
        "    polarity: Literal[\"positive\", \"neutral\", \"negative\"]\n",
        "\n",
        "\n",
        "sentiment = create(\n",
        "    messages=[\n",
        "        {\n",
        "            \"role\": \"user\",\n",
        "            \"content\": \"Analyze the following review with aspect-based sentiment analysis: `The cheeseburger was delicious`\",\n",
        "        }\n",
        "    ],\n",
        "    response_model=Sentiment,\n",
        ")\n",
        "\n",
        "print(sentiment)"
      ]
    },
    {
      "cell_type": "markdown",
      "metadata": {
        "id": "sl4Pw2732hbd"
      },
      "source": [
        "### Free form tasks\n",
        "\n",
        "We can ask the LLM to extract any extraction, transformation or other reasoning task. Let's try a prompt to comprehensively analyze a news article."
      ]
    },
    {
      "cell_type": "code",
      "execution_count": null,
      "metadata": {
        "colab": {
          "base_uri": "https://localhost:8080/"
        },
        "id": "SeAJVuN62hbd",
        "outputId": "abe78e10-fac6-4aef-b278-41a24b515f62"
      },
      "outputs": [
        {
          "name": "stdout",
          "output_type": "stream",
          "text": [
            "language='de' topic='Business' topic_detail='Market Research Industry' summary='The Tito & Friends group of companies continues its shopping spree in the market research industry. After acquiring the full-service institutes dcore from Munich and Mindtake from Vienna, the Hamburg Institute for Applied Data Analysis in Market Research (IfaD) has now also become part of the group at the turn of the year.' entities=[Entity(text='Tito & Friends', type='ORGANIZATION'), Entity(text='dcore', type='ORGANIZATION'), Entity(text='Mindtake', type='ORGANIZATION'), Entity(text='Hamburg Institute for Applied Data Analysis in Market Research', type='ORGANIZATION'), Entity(text='Martin Cyrus', type='PERSON')]\n"
          ]
        }
      ],
      "source": [
        "from pydantic import Field\n",
        "\n",
        "class NewsAnalysis(BaseModel):\n",
        "    language: str = Field(description=\"Language of the article as a two letter code\")\n",
        "    topic: Literal[\"World\", \"Sports\", \"Business\", \"Sci/Tech\"]\n",
        "    topic_detail: str = Field(description=\"Detailed categorization of the topic\")\n",
        "    summary: str = Field(description=\"One sentence summary of the article\")\n",
        "    entities: List[Entity]\n",
        "\n",
        "article = \"\"\"\n",
        "The Tito & Friends group of companies continues its shopping spree in the market \\\n",
        "research industry. After acquiring the full-service institutes dcore from Munich \\\n",
        "and Mindtake from Vienna, the Hamburg Institute for Applied Data Analysis in \\\n",
        "Market Research (IfaD) has now also become part of the group at the turn of the year. \\\n",
        "With the sale, founder and previous managing director Martin Cyrus is retiring.\n",
        "\"\"\"\n",
        "# Translated excerpt from: https://www.marktforschung.de/marktforschung/a/ifad-wird-von-tito-friends-uebernommen/\n",
        "\n",
        "analysis = create(\n",
        "    messages=[\n",
        "        {\n",
        "            \"role\": \"user\",\n",
        "            \"content\": f\"Analyze the following news article: {article}\",\n",
        "        }\n",
        "    ],\n",
        "    response_model=NewsAnalysis,\n",
        ")\n",
        "\n",
        "print(analysis)\n"
      ]
    },
    {
      "cell_type": "markdown",
      "metadata": {
        "id": "GpuGYRdV2hbe"
      },
      "source": [
        "With the multi-task approach we can bundle a whole NLP pipeline into a single prompt. However, it makes evaluation and debugging more difficult."
      ]
    },
    {
      "cell_type": "markdown",
      "metadata": {
        "id": "IxcxCktx2hbe"
      },
      "source": [
        "## Few-shot learning\n",
        "\n",
        "We can add examples to the prompt to improve the model's performance. Let's go back to the text classification example and create a system prompt with examples."
      ]
    },
    {
      "cell_type": "code",
      "execution_count": null,
      "metadata": {
        "colab": {
          "base_uri": "https://localhost:8080/"
        },
        "id": "V9uH_5Pf2hbe",
        "outputId": "2d35badb-f026-4681-841d-1280a833b01b"
      },
      "outputs": [
        {
          "name": "stdout",
          "output_type": "stream",
          "text": [
            "\n",
            "You are a text classifier. You are given a news article and you need to classify it into one of the following categories:\n",
            "World, Sports, Business, Sci/Tech\n",
            "\n",
            "Examples:\n",
            "{'text': 'UN Security Council passes resolution on global peace initiative', 'category': 'World'}\n",
            "{'text': 'Major tech company reports record quarterly earnings', 'category': 'Business'}\n",
            "{'text': 'Scientists develop breakthrough quantum computing technology', 'category': 'Sci/Tech'}\n",
            "{'text': 'Local team wins national championship in dramatic final', 'category': 'Sports'}\n",
            "\n"
          ]
        }
      ],
      "source": [
        "categories = [\"World\", \"Sports\", \"Business\", \"Sci/Tech\"]\n",
        "\n",
        "examples = [\n",
        "    {\n",
        "        \"text\": \"UN Security Council passes resolution on global peace initiative\",\n",
        "        \"category\": \"World\"\n",
        "    },\n",
        "    {\n",
        "        \"text\": \"Major tech company reports record quarterly earnings\",\n",
        "        \"category\": \"Business\"\n",
        "    },\n",
        "    {\n",
        "        \"text\": \"Scientists develop breakthrough quantum computing technology\",\n",
        "        \"category\": \"Sci/Tech\"\n",
        "    },\n",
        "    {\n",
        "        \"text\": \"Local team wins national championship in dramatic final\",\n",
        "        \"category\": \"Sports\"\n",
        "    }\n",
        "]\n",
        "\n",
        "examples_joined = \"\\n\".join(str(example) for example in examples)\n",
        "\n",
        "system_prompt = f\"\"\"\n",
        "You are a text classifier. You are given a news article and you need to classify it into one of the following categories:\n",
        "{\", \".join(categories)}\n",
        "\n",
        "Examples:\n",
        "{examples_joined}\n",
        "\"\"\"\n",
        "\n",
        "print(system_prompt)"
      ]
    },
    {
      "cell_type": "markdown",
      "metadata": {
        "id": "rWq9tC5o2hbe"
      },
      "source": [
        "Now we can use the system prompt to classify another news article."
      ]
    },
    {
      "cell_type": "code",
      "execution_count": null,
      "metadata": {
        "colab": {
          "base_uri": "https://localhost:8080/"
        },
        "id": "Sh-6q9rS2hbe",
        "outputId": "f4904c5c-a712-4e13-f3f5-9ef336ae8774"
      },
      "outputs": [
        {
          "name": "stdout",
          "output_type": "stream",
          "text": [
            "category='Business'\n"
          ]
        }
      ],
      "source": [
        "news_category = create(\n",
        "    messages=[\n",
        "        {\n",
        "            \"role\": \"system\",\n",
        "            \"content\": system_prompt,\n",
        "        },\n",
        "        {\n",
        "            \"role\": \"user\",\n",
        "            \"content\": \"Breakthrough AI technology for market research revealed at GOR 25\",\n",
        "        }\n",
        "    ],\n",
        "    response_model=NewsCategory,\n",
        ")\n",
        "\n",
        "print(news_category)"
      ]
    },
    {
      "cell_type": "markdown",
      "metadata": {
        "id": "MURM7lXm2hbe"
      },
      "source": [
        "## Evaluation\n",
        "\n",
        "We can evaluate the performance of the model by comparing the predicted category to the true category. Here, we can run the experiment with the AG News dataset. The dataset contains 127,600 news articles classified into 4 categories: World, Sports, Business, and Science/Technology. Let's see how well the model performs on this dataset. It's available on Hugging Face: <https://huggingface.co/datasets/fancyzhx/ag_news>. We download it as a polars DataFrame. Polars is similar to pandas, but faster.\n"
      ]
    },
    {
      "cell_type": "code",
      "execution_count": null,
      "metadata": {
        "id": "oM4IL5og2hbe"
      },
      "outputs": [],
      "source": [
        "import polars as pl\n",
        "\n",
        "splits = {'train': 'data/train-00000-of-00001.parquet', 'test': 'data/test-00000-of-00001.parquet'}\n",
        "agnews_test = pl.read_parquet('hf://datasets/fancyzhx/ag_news/' + splits['test'])\n"
      ]
    },
    {
      "cell_type": "markdown",
      "metadata": {
        "id": "wpiUsWf92hbe"
      },
      "source": [
        "Text labels are easier to work with than a category ID number, because they are more descriptive and help the LLM understand the task. We can map the category ID to a text label."
      ]
    },
    {
      "cell_type": "code",
      "execution_count": null,
      "metadata": {
        "colab": {
          "base_uri": "https://localhost:8080/"
        },
        "id": "Vbe2-gvm2hbe",
        "outputId": "0934f39c-8a09-444d-93c1-3e15a59465cb"
      },
      "outputs": [
        {
          "name": "stdout",
          "output_type": "stream",
          "text": [
            "shape: (4, 2)\n",
            "┌──────────┬──────────┐\n",
            "│ category ┆ examples │\n",
            "│ ---      ┆ ---      │\n",
            "│ str      ┆ u32      │\n",
            "╞══════════╪══════════╡\n",
            "│ Business ┆ 1900     │\n",
            "│ Sci/Tech ┆ 1900     │\n",
            "│ World    ┆ 1900     │\n",
            "│ Sports   ┆ 1900     │\n",
            "└──────────┴──────────┘\n"
          ]
        }
      ],
      "source": [
        "label_map = {0: \"World\", 1: \"Sports\", 2: \"Business\", 3: \"Sci/Tech\"}\n",
        "agnews_test = agnews_test.with_columns(pl.col('label').replace_strict(label_map).alias('category'))\n",
        "\n",
        "print(agnews_test.group_by(\"category\").agg(examples=pl.len()))\n"
      ]
    },
    {
      "cell_type": "markdown",
      "metadata": {
        "id": "HXrpW2kV2hbe"
      },
      "source": [
        "Let's run the model on a subset of the test set. Running it on the entire dataset would take a long time in a Colab notebook. If this were running on a powerful GPU, it would be done quickly."
      ]
    },
    {
      "cell_type": "code",
      "execution_count": null,
      "metadata": {
        "id": "mHgX2-_-2hbe"
      },
      "outputs": [],
      "source": [
        "agnews_test_sample = agnews_test.sample(n=100, seed=42)"
      ]
    },
    {
      "cell_type": "code",
      "execution_count": null,
      "metadata": {
        "colab": {
          "base_uri": "https://localhost:8080/"
        },
        "id": "-7RRnpy92hbe",
        "outputId": "e238ea40-f9ac-484f-98d3-a178ea1ffb02"
      },
      "outputs": [
        {
          "name": "stderr",
          "output_type": "stream",
          "text": [
            "100%|██████████| 100/100 [01:06<00:00,  1.51it/s]\n"
          ]
        }
      ],
      "source": [
        "from tqdm import tqdm\n",
        "\n",
        "def get_response(text):\n",
        "    return create(\n",
        "        messages=[\n",
        "            {\n",
        "                \"role\": \"system\",\n",
        "                \"content\": system_prompt\n",
        "            },\n",
        "            {\"role\": \"user\", \"content\": text}\n",
        "        ],\n",
        "        response_model=NewsCategory,\n",
        "    )\n",
        "\n",
        "responses = [\n",
        "    get_response(text) for text in tqdm(agnews_test_sample['text'])\n",
        "]\n"
      ]
    },
    {
      "cell_type": "code",
      "execution_count": null,
      "metadata": {
        "colab": {
          "base_uri": "https://localhost:8080/"
        },
        "id": "6ZG616I02hbf",
        "outputId": "2a8b2c16-b869-425e-cc09-306779dd0a81"
      },
      "outputs": [
        {
          "name": "stdout",
          "output_type": "stream",
          "text": [
            "Accuracy: 0.72\n"
          ]
        }
      ],
      "source": [
        "import numpy as np\n",
        "from sklearn.metrics import accuracy_score\n",
        "\n",
        "y_true = agnews_test_sample['category'].to_numpy()\n",
        "y_pred = np.array([response.category for response in responses])\n",
        "\n",
        "acc = accuracy_score(y_true=y_true, y_pred=y_pred)\n",
        "\n",
        "print(f\"Accuracy: {acc:.2f}\")"
      ]
    },
    {
      "cell_type": "markdown",
      "metadata": {
        "id": "2GCu7RZO2hbf"
      },
      "source": [
        "The accuracy is a start but not satisfactory. This highlights the importance of evaluation. If we had just looked at a few examples, we might have falsely concluded that the model is always correct.\n",
        "\n",
        "There are many ways to improve the model's performance:\n",
        "\n",
        "- Describe the different labels in more detail\n",
        "- Add more examples\n",
        "- Use prompting techniques, such as Chain of Thought\n",
        "- Use a higher precision model (less quantization)\n",
        "- Use a larger model"
      ]
    },
    {
      "cell_type": "markdown",
      "metadata": {
        "id": "b2FTM2GWpByg"
      },
      "source": [
        "## Extracting information from images\n",
        "\n",
        "Multimodal LLMs can take images as input and generate structured output - just like with text input.\n",
        "\n",
        "Our local model does not have vision capability, so we need to switch to another model, such as gpt-4o-mini. There are also open weights models that support vision, such as [gemma-3-27b-it](https://huggingface.co/google/gemma-3-27b-it).\n",
        "\n",
        "Instructor also support audio. See the [documentation](https://python.useinstructor.com/concepts/multimodal/#usage).\n",
        "\n",
        "As an example, let's set up a response model and a prompt to describe someone's clothes.\n",
        "\n",
        "![Example image: Fashion model](https://images.unsplash.com/photo-1523559695898-5262d13a600c?q=80&w=2427&auto=format&fit=crop&ixlib=rb-4.0.3&ixid=M3wxMjA3fDB8MHxwaG90by1wYWdlfHx8fGVufDB8fHx8fA%3D%3D)"
      ]
    },
    {
      "cell_type": "code",
      "execution_count": null,
      "metadata": {
        "colab": {
          "base_uri": "https://localhost:8080/"
        },
        "id": "-kFwrJBHpGYc",
        "outputId": "9cab2365-68b1-4119-f1ee-77f2f5054ed8"
      },
      "outputs": [
        {
          "name": "stdout",
          "output_type": "stream",
          "text": [
            "hat=None top=Item(name='shirt', color='blue') bottom=Item(name='pants', color='white') shoes=Item(name='sneakers', color='gray') accessories=[Item(name='sunglasses', color='black'), Item(name='bracelet', color='black')]\n"
          ]
        }
      ],
      "source": [
        "from typing import Literal\n",
        "import openai\n",
        "import instructor\n",
        "from google.colab import userdata\n",
        "from pydantic import BaseModel\n",
        "\n",
        "class Item(BaseModel):\n",
        "   name: str\n",
        "   color: Literal[\"red\", \"blue\", \"green\", \"brown\", \"yellow\", \"orange\", \"purple\", \"pink\", \"gray\", \"black\", \"white\"]\n",
        "\n",
        "class Outfit(BaseModel):\n",
        "    hat: Item | None\n",
        "    top: Item\n",
        "    bottom: Item\n",
        "    shoes: Item\n",
        "    accessories: list[Item]\n",
        "\n",
        "\n",
        "client = instructor.from_openai(openai.OpenAI(api_key=userdata.get('OPENAI_API_KEY')))\n",
        "url = \"https://images.unsplash.com/photo-1523559695898-5262d13a600c?q=80&w=2427&auto=format&fit=crop&ixlib=rb-4.0.3&ixid=M3wxMjA3fDB8MHxwaG90by1wYWdlfHx8fGVufDB8fHx8fA%3D%3D\"\n",
        "\n",
        "image = instructor.Image.from_url(url)\n",
        "\n",
        "resp = client.chat.completions.create(\n",
        "    model=\"gpt-4o-mini\",\n",
        "    messages=[\n",
        "        {\n",
        "            \"role\": \"system\",\n",
        "            \"content\": \"You are a helpful assistant. You are given a an image and need to identify what the person is wearing.\"\n",
        "        },\n",
        "        {\n",
        "            \"role\": \"user\",\n",
        "            \"content\": [\n",
        "                \"Here is the image\",\n",
        "                image\n",
        "            ],\n",
        "        },\n",
        "    ],\n",
        "    response_model=Outfit\n",
        ")\n",
        "\n",
        "print(resp)"
      ]
    }
  ],
  "metadata": {
    "accelerator": "GPU",
    "colab": {
      "gpuType": "T4",
      "provenance": []
    },
    "kernelspec": {
      "display_name": ".venv",
      "language": "python",
      "name": "python3"
    },
    "language_info": {
      "codemirror_mode": {
        "name": "ipython",
        "version": 3
      },
      "file_extension": ".py",
      "mimetype": "text/x-python",
      "name": "python",
      "nbconvert_exporter": "python",
      "pygments_lexer": "ipython3",
      "version": "3.12.8"
    },
    "widgets": {
      "application/vnd.jupyter.widget-state+json": {
        "00b3da6cf13a444fb2007fe588084d5f": {
          "model_module": "@jupyter-widgets/controls",
          "model_module_version": "1.5.0",
          "model_name": "DescriptionStyleModel",
          "state": {
            "_model_module": "@jupyter-widgets/controls",
            "_model_module_version": "1.5.0",
            "_model_name": "DescriptionStyleModel",
            "_view_count": null,
            "_view_module": "@jupyter-widgets/base",
            "_view_module_version": "1.2.0",
            "_view_name": "StyleView",
            "description_width": ""
          }
        },
        "072c7be55f96481692e5622816409a6e": {
          "model_module": "@jupyter-widgets/base",
          "model_module_version": "1.2.0",
          "model_name": "LayoutModel",
          "state": {
            "_model_module": "@jupyter-widgets/base",
            "_model_module_version": "1.2.0",
            "_model_name": "LayoutModel",
            "_view_count": null,
            "_view_module": "@jupyter-widgets/base",
            "_view_module_version": "1.2.0",
            "_view_name": "LayoutView",
            "align_content": null,
            "align_items": null,
            "align_self": null,
            "border": null,
            "bottom": null,
            "display": null,
            "flex": null,
            "flex_flow": null,
            "grid_area": null,
            "grid_auto_columns": null,
            "grid_auto_flow": null,
            "grid_auto_rows": null,
            "grid_column": null,
            "grid_gap": null,
            "grid_row": null,
            "grid_template_areas": null,
            "grid_template_columns": null,
            "grid_template_rows": null,
            "height": null,
            "justify_content": null,
            "justify_items": null,
            "left": null,
            "margin": null,
            "max_height": null,
            "max_width": null,
            "min_height": null,
            "min_width": null,
            "object_fit": null,
            "object_position": null,
            "order": null,
            "overflow": null,
            "overflow_x": null,
            "overflow_y": null,
            "padding": null,
            "right": null,
            "top": null,
            "visibility": null,
            "width": null
          }
        },
        "0b905233f0cd41bab8ee335ddc5fec9b": {
          "model_module": "@jupyter-widgets/controls",
          "model_module_version": "1.5.0",
          "model_name": "DescriptionStyleModel",
          "state": {
            "_model_module": "@jupyter-widgets/controls",
            "_model_module_version": "1.5.0",
            "_model_name": "DescriptionStyleModel",
            "_view_count": null,
            "_view_module": "@jupyter-widgets/base",
            "_view_module_version": "1.2.0",
            "_view_name": "StyleView",
            "description_width": ""
          }
        },
        "0e9bbbd2ea5f46e0bedda08ba3bad3f3": {
          "model_module": "@jupyter-widgets/base",
          "model_module_version": "1.2.0",
          "model_name": "LayoutModel",
          "state": {
            "_model_module": "@jupyter-widgets/base",
            "_model_module_version": "1.2.0",
            "_model_name": "LayoutModel",
            "_view_count": null,
            "_view_module": "@jupyter-widgets/base",
            "_view_module_version": "1.2.0",
            "_view_name": "LayoutView",
            "align_content": null,
            "align_items": null,
            "align_self": null,
            "border": null,
            "bottom": null,
            "display": null,
            "flex": null,
            "flex_flow": null,
            "grid_area": null,
            "grid_auto_columns": null,
            "grid_auto_flow": null,
            "grid_auto_rows": null,
            "grid_column": null,
            "grid_gap": null,
            "grid_row": null,
            "grid_template_areas": null,
            "grid_template_columns": null,
            "grid_template_rows": null,
            "height": null,
            "justify_content": null,
            "justify_items": null,
            "left": null,
            "margin": null,
            "max_height": null,
            "max_width": null,
            "min_height": null,
            "min_width": null,
            "object_fit": null,
            "object_position": null,
            "order": null,
            "overflow": null,
            "overflow_x": null,
            "overflow_y": null,
            "padding": null,
            "right": null,
            "top": null,
            "visibility": null,
            "width": null
          }
        },
        "0ec49f7015bb4098824010909329e8d0": {
          "model_module": "@jupyter-widgets/controls",
          "model_module_version": "1.5.0",
          "model_name": "DescriptionStyleModel",
          "state": {
            "_model_module": "@jupyter-widgets/controls",
            "_model_module_version": "1.5.0",
            "_model_name": "DescriptionStyleModel",
            "_view_count": null,
            "_view_module": "@jupyter-widgets/base",
            "_view_module_version": "1.2.0",
            "_view_name": "StyleView",
            "description_width": ""
          }
        },
        "15f55590a91449ca9364563479fe2ebe": {
          "model_module": "@jupyter-widgets/base",
          "model_module_version": "1.2.0",
          "model_name": "LayoutModel",
          "state": {
            "_model_module": "@jupyter-widgets/base",
            "_model_module_version": "1.2.0",
            "_model_name": "LayoutModel",
            "_view_count": null,
            "_view_module": "@jupyter-widgets/base",
            "_view_module_version": "1.2.0",
            "_view_name": "LayoutView",
            "align_content": null,
            "align_items": null,
            "align_self": null,
            "border": null,
            "bottom": null,
            "display": null,
            "flex": null,
            "flex_flow": null,
            "grid_area": null,
            "grid_auto_columns": null,
            "grid_auto_flow": null,
            "grid_auto_rows": null,
            "grid_column": null,
            "grid_gap": null,
            "grid_row": null,
            "grid_template_areas": null,
            "grid_template_columns": null,
            "grid_template_rows": null,
            "height": null,
            "justify_content": null,
            "justify_items": null,
            "left": null,
            "margin": null,
            "max_height": null,
            "max_width": null,
            "min_height": null,
            "min_width": null,
            "object_fit": null,
            "object_position": null,
            "order": null,
            "overflow": null,
            "overflow_x": null,
            "overflow_y": null,
            "padding": null,
            "right": null,
            "top": null,
            "visibility": null,
            "width": null
          }
        },
        "16b6d5cfd2374ca98b9a0b1bbb9dc7c3": {
          "model_module": "@jupyter-widgets/controls",
          "model_module_version": "1.5.0",
          "model_name": "HTMLModel",
          "state": {
            "_dom_classes": [],
            "_model_module": "@jupyter-widgets/controls",
            "_model_module_version": "1.5.0",
            "_model_name": "HTMLModel",
            "_view_count": null,
            "_view_module": "@jupyter-widgets/controls",
            "_view_module_version": "1.5.0",
            "_view_name": "HTMLView",
            "description": "",
            "description_tooltip": null,
            "layout": "IPY_MODEL_35e24438429246669840e7bbcfef4b33",
            "placeholder": "​",
            "style": "IPY_MODEL_0b905233f0cd41bab8ee335ddc5fec9b",
            "value": " 2.02G/2.02G [01:24&lt;00:00, 24.5MB/s]"
          }
        },
        "1b4a5dedd5fa4d0e9bd7633c9202c28a": {
          "model_module": "@jupyter-widgets/controls",
          "model_module_version": "1.5.0",
          "model_name": "HTMLModel",
          "state": {
            "_dom_classes": [],
            "_model_module": "@jupyter-widgets/controls",
            "_model_module_version": "1.5.0",
            "_model_name": "HTMLModel",
            "_view_count": null,
            "_view_module": "@jupyter-widgets/controls",
            "_view_module_version": "1.5.0",
            "_view_name": "HTMLView",
            "description": "",
            "description_tooltip": null,
            "layout": "IPY_MODEL_71808e802e074ad3b4c4418e34fa9c3e",
            "placeholder": "​",
            "style": "IPY_MODEL_2d3c6a8bd3424bcc9cda72c1d9937021",
            "value": "tokenizer.json: 100%"
          }
        },
        "20b38ccbddfe48fab25977fe37efb070": {
          "model_module": "@jupyter-widgets/controls",
          "model_module_version": "1.5.0",
          "model_name": "ProgressStyleModel",
          "state": {
            "_model_module": "@jupyter-widgets/controls",
            "_model_module_version": "1.5.0",
            "_model_name": "ProgressStyleModel",
            "_view_count": null,
            "_view_module": "@jupyter-widgets/base",
            "_view_module_version": "1.2.0",
            "_view_name": "StyleView",
            "bar_color": null,
            "description_width": ""
          }
        },
        "2846fed283f84cd6a8481ce877cd2890": {
          "model_module": "@jupyter-widgets/controls",
          "model_module_version": "1.5.0",
          "model_name": "HBoxModel",
          "state": {
            "_dom_classes": [],
            "_model_module": "@jupyter-widgets/controls",
            "_model_module_version": "1.5.0",
            "_model_name": "HBoxModel",
            "_view_count": null,
            "_view_module": "@jupyter-widgets/controls",
            "_view_module_version": "1.5.0",
            "_view_name": "HBoxView",
            "box_style": "",
            "children": [
              "IPY_MODEL_1b4a5dedd5fa4d0e9bd7633c9202c28a",
              "IPY_MODEL_bcca64afaad844d7a4b1ffc73dc924e3",
              "IPY_MODEL_7a3911125d2142349a038809efc0e6e4"
            ],
            "layout": "IPY_MODEL_cb48d541db004aad8ca3aaee7ccac6cf"
          }
        },
        "29f0abc6255b4189bf7b6f702677d8b5": {
          "model_module": "@jupyter-widgets/base",
          "model_module_version": "1.2.0",
          "model_name": "LayoutModel",
          "state": {
            "_model_module": "@jupyter-widgets/base",
            "_model_module_version": "1.2.0",
            "_model_name": "LayoutModel",
            "_view_count": null,
            "_view_module": "@jupyter-widgets/base",
            "_view_module_version": "1.2.0",
            "_view_name": "LayoutView",
            "align_content": null,
            "align_items": null,
            "align_self": null,
            "border": null,
            "bottom": null,
            "display": null,
            "flex": null,
            "flex_flow": null,
            "grid_area": null,
            "grid_auto_columns": null,
            "grid_auto_flow": null,
            "grid_auto_rows": null,
            "grid_column": null,
            "grid_gap": null,
            "grid_row": null,
            "grid_template_areas": null,
            "grid_template_columns": null,
            "grid_template_rows": null,
            "height": null,
            "justify_content": null,
            "justify_items": null,
            "left": null,
            "margin": null,
            "max_height": null,
            "max_width": null,
            "min_height": null,
            "min_width": null,
            "object_fit": null,
            "object_position": null,
            "order": null,
            "overflow": null,
            "overflow_x": null,
            "overflow_y": null,
            "padding": null,
            "right": null,
            "top": null,
            "visibility": null,
            "width": null
          }
        },
        "2d3c6a8bd3424bcc9cda72c1d9937021": {
          "model_module": "@jupyter-widgets/controls",
          "model_module_version": "1.5.0",
          "model_name": "DescriptionStyleModel",
          "state": {
            "_model_module": "@jupyter-widgets/controls",
            "_model_module_version": "1.5.0",
            "_model_name": "DescriptionStyleModel",
            "_view_count": null,
            "_view_module": "@jupyter-widgets/base",
            "_view_module_version": "1.2.0",
            "_view_name": "StyleView",
            "description_width": ""
          }
        },
        "2e5bad9b6d8b4587a2af9e11ec99812e": {
          "model_module": "@jupyter-widgets/controls",
          "model_module_version": "1.5.0",
          "model_name": "HTMLModel",
          "state": {
            "_dom_classes": [],
            "_model_module": "@jupyter-widgets/controls",
            "_model_module_version": "1.5.0",
            "_model_name": "HTMLModel",
            "_view_count": null,
            "_view_module": "@jupyter-widgets/controls",
            "_view_module_version": "1.5.0",
            "_view_name": "HTMLView",
            "description": "",
            "description_tooltip": null,
            "layout": "IPY_MODEL_405e38db204543e782d7199cf83a397b",
            "placeholder": "​",
            "style": "IPY_MODEL_de818740b76145e183b3237d7ff75bc3",
            "value": "Hermes-3-Llama-3.2-3B.Q4_K_M.gguf: 100%"
          }
        },
        "31e5fa603c304ce3bb46cab1b30672a9": {
          "model_module": "@jupyter-widgets/base",
          "model_module_version": "1.2.0",
          "model_name": "LayoutModel",
          "state": {
            "_model_module": "@jupyter-widgets/base",
            "_model_module_version": "1.2.0",
            "_model_name": "LayoutModel",
            "_view_count": null,
            "_view_module": "@jupyter-widgets/base",
            "_view_module_version": "1.2.0",
            "_view_name": "LayoutView",
            "align_content": null,
            "align_items": null,
            "align_self": null,
            "border": null,
            "bottom": null,
            "display": null,
            "flex": null,
            "flex_flow": null,
            "grid_area": null,
            "grid_auto_columns": null,
            "grid_auto_flow": null,
            "grid_auto_rows": null,
            "grid_column": null,
            "grid_gap": null,
            "grid_row": null,
            "grid_template_areas": null,
            "grid_template_columns": null,
            "grid_template_rows": null,
            "height": null,
            "justify_content": null,
            "justify_items": null,
            "left": null,
            "margin": null,
            "max_height": null,
            "max_width": null,
            "min_height": null,
            "min_width": null,
            "object_fit": null,
            "object_position": null,
            "order": null,
            "overflow": null,
            "overflow_x": null,
            "overflow_y": null,
            "padding": null,
            "right": null,
            "top": null,
            "visibility": null,
            "width": null
          }
        },
        "35e24438429246669840e7bbcfef4b33": {
          "model_module": "@jupyter-widgets/base",
          "model_module_version": "1.2.0",
          "model_name": "LayoutModel",
          "state": {
            "_model_module": "@jupyter-widgets/base",
            "_model_module_version": "1.2.0",
            "_model_name": "LayoutModel",
            "_view_count": null,
            "_view_module": "@jupyter-widgets/base",
            "_view_module_version": "1.2.0",
            "_view_name": "LayoutView",
            "align_content": null,
            "align_items": null,
            "align_self": null,
            "border": null,
            "bottom": null,
            "display": null,
            "flex": null,
            "flex_flow": null,
            "grid_area": null,
            "grid_auto_columns": null,
            "grid_auto_flow": null,
            "grid_auto_rows": null,
            "grid_column": null,
            "grid_gap": null,
            "grid_row": null,
            "grid_template_areas": null,
            "grid_template_columns": null,
            "grid_template_rows": null,
            "height": null,
            "justify_content": null,
            "justify_items": null,
            "left": null,
            "margin": null,
            "max_height": null,
            "max_width": null,
            "min_height": null,
            "min_width": null,
            "object_fit": null,
            "object_position": null,
            "order": null,
            "overflow": null,
            "overflow_x": null,
            "overflow_y": null,
            "padding": null,
            "right": null,
            "top": null,
            "visibility": null,
            "width": null
          }
        },
        "405e38db204543e782d7199cf83a397b": {
          "model_module": "@jupyter-widgets/base",
          "model_module_version": "1.2.0",
          "model_name": "LayoutModel",
          "state": {
            "_model_module": "@jupyter-widgets/base",
            "_model_module_version": "1.2.0",
            "_model_name": "LayoutModel",
            "_view_count": null,
            "_view_module": "@jupyter-widgets/base",
            "_view_module_version": "1.2.0",
            "_view_name": "LayoutView",
            "align_content": null,
            "align_items": null,
            "align_self": null,
            "border": null,
            "bottom": null,
            "display": null,
            "flex": null,
            "flex_flow": null,
            "grid_area": null,
            "grid_auto_columns": null,
            "grid_auto_flow": null,
            "grid_auto_rows": null,
            "grid_column": null,
            "grid_gap": null,
            "grid_row": null,
            "grid_template_areas": null,
            "grid_template_columns": null,
            "grid_template_rows": null,
            "height": null,
            "justify_content": null,
            "justify_items": null,
            "left": null,
            "margin": null,
            "max_height": null,
            "max_width": null,
            "min_height": null,
            "min_width": null,
            "object_fit": null,
            "object_position": null,
            "order": null,
            "overflow": null,
            "overflow_x": null,
            "overflow_y": null,
            "padding": null,
            "right": null,
            "top": null,
            "visibility": null,
            "width": null
          }
        },
        "595748bbc58447e1adc0decdbec97c71": {
          "model_module": "@jupyter-widgets/controls",
          "model_module_version": "1.5.0",
          "model_name": "HTMLModel",
          "state": {
            "_dom_classes": [],
            "_model_module": "@jupyter-widgets/controls",
            "_model_module_version": "1.5.0",
            "_model_name": "HTMLModel",
            "_view_count": null,
            "_view_module": "@jupyter-widgets/controls",
            "_view_module_version": "1.5.0",
            "_view_name": "HTMLView",
            "description": "",
            "description_tooltip": null,
            "layout": "IPY_MODEL_8f46325d1d0c47a2b8da4651d1b1c5d9",
            "placeholder": "​",
            "style": "IPY_MODEL_981b9858e6184918b75ce6c76ea8d0db",
            "value": " 50.3k/50.3k [00:00&lt;00:00, 5.07MB/s]"
          }
        },
        "5b44407255984c1f9f4bcc3cabc12b04": {
          "model_module": "@jupyter-widgets/controls",
          "model_module_version": "1.5.0",
          "model_name": "HBoxModel",
          "state": {
            "_dom_classes": [],
            "_model_module": "@jupyter-widgets/controls",
            "_model_module_version": "1.5.0",
            "_model_name": "HBoxModel",
            "_view_count": null,
            "_view_module": "@jupyter-widgets/controls",
            "_view_module_version": "1.5.0",
            "_view_name": "HBoxView",
            "box_style": "",
            "children": [
              "IPY_MODEL_6a203a3f064c4120833c4142d8f89d22",
              "IPY_MODEL_8735f9c1ffd94aa1890de8e01856f594",
              "IPY_MODEL_8fdcaca41fb44b4eb46ab0c27fe9060e"
            ],
            "layout": "IPY_MODEL_072c7be55f96481692e5622816409a6e"
          }
        },
        "5ea4adf815fe449e8834feb4a81de54a": {
          "model_module": "@jupyter-widgets/controls",
          "model_module_version": "1.5.0",
          "model_name": "FloatProgressModel",
          "state": {
            "_dom_classes": [],
            "_model_module": "@jupyter-widgets/controls",
            "_model_module_version": "1.5.0",
            "_model_name": "FloatProgressModel",
            "_view_count": null,
            "_view_module": "@jupyter-widgets/controls",
            "_view_module_version": "1.5.0",
            "_view_name": "ProgressView",
            "bar_style": "success",
            "description": "",
            "description_tooltip": null,
            "layout": "IPY_MODEL_29f0abc6255b4189bf7b6f702677d8b5",
            "max": 50329,
            "min": 0,
            "orientation": "horizontal",
            "style": "IPY_MODEL_bbe94256128948a38f37958c14c9c980",
            "value": 50329
          }
        },
        "6394ca1515e44a0daaa11111e820d0ca": {
          "model_module": "@jupyter-widgets/controls",
          "model_module_version": "1.5.0",
          "model_name": "ProgressStyleModel",
          "state": {
            "_model_module": "@jupyter-widgets/controls",
            "_model_module_version": "1.5.0",
            "_model_name": "ProgressStyleModel",
            "_view_count": null,
            "_view_module": "@jupyter-widgets/base",
            "_view_module_version": "1.2.0",
            "_view_name": "StyleView",
            "bar_color": null,
            "description_width": ""
          }
        },
        "666d53f913014b4ba96a912744487566": {
          "model_module": "@jupyter-widgets/base",
          "model_module_version": "1.2.0",
          "model_name": "LayoutModel",
          "state": {
            "_model_module": "@jupyter-widgets/base",
            "_model_module_version": "1.2.0",
            "_model_name": "LayoutModel",
            "_view_count": null,
            "_view_module": "@jupyter-widgets/base",
            "_view_module_version": "1.2.0",
            "_view_name": "LayoutView",
            "align_content": null,
            "align_items": null,
            "align_self": null,
            "border": null,
            "bottom": null,
            "display": null,
            "flex": null,
            "flex_flow": null,
            "grid_area": null,
            "grid_auto_columns": null,
            "grid_auto_flow": null,
            "grid_auto_rows": null,
            "grid_column": null,
            "grid_gap": null,
            "grid_row": null,
            "grid_template_areas": null,
            "grid_template_columns": null,
            "grid_template_rows": null,
            "height": null,
            "justify_content": null,
            "justify_items": null,
            "left": null,
            "margin": null,
            "max_height": null,
            "max_width": null,
            "min_height": null,
            "min_width": null,
            "object_fit": null,
            "object_position": null,
            "order": null,
            "overflow": null,
            "overflow_x": null,
            "overflow_y": null,
            "padding": null,
            "right": null,
            "top": null,
            "visibility": null,
            "width": null
          }
        },
        "6a203a3f064c4120833c4142d8f89d22": {
          "model_module": "@jupyter-widgets/controls",
          "model_module_version": "1.5.0",
          "model_name": "HTMLModel",
          "state": {
            "_dom_classes": [],
            "_model_module": "@jupyter-widgets/controls",
            "_model_module_version": "1.5.0",
            "_model_name": "HTMLModel",
            "_view_count": null,
            "_view_module": "@jupyter-widgets/controls",
            "_view_module_version": "1.5.0",
            "_view_name": "HTMLView",
            "description": "",
            "description_tooltip": null,
            "layout": "IPY_MODEL_f52ab2db7baf4ba782f609cd1d3731f6",
            "placeholder": "​",
            "style": "IPY_MODEL_0ec49f7015bb4098824010909329e8d0",
            "value": "special_tokens_map.json: 100%"
          }
        },
        "6dcc35ceed054d5093f77dd0a993504f": {
          "model_module": "@jupyter-widgets/controls",
          "model_module_version": "1.5.0",
          "model_name": "FloatProgressModel",
          "state": {
            "_dom_classes": [],
            "_model_module": "@jupyter-widgets/controls",
            "_model_module_version": "1.5.0",
            "_model_name": "FloatProgressModel",
            "_view_count": null,
            "_view_module": "@jupyter-widgets/controls",
            "_view_module_version": "1.5.0",
            "_view_name": "ProgressView",
            "bar_style": "success",
            "description": "",
            "description_tooltip": null,
            "layout": "IPY_MODEL_e48a0a0022db4563b4431c7f122f2777",
            "max": 2019373888,
            "min": 0,
            "orientation": "horizontal",
            "style": "IPY_MODEL_6394ca1515e44a0daaa11111e820d0ca",
            "value": 2019373888
          }
        },
        "71808e802e074ad3b4c4418e34fa9c3e": {
          "model_module": "@jupyter-widgets/base",
          "model_module_version": "1.2.0",
          "model_name": "LayoutModel",
          "state": {
            "_model_module": "@jupyter-widgets/base",
            "_model_module_version": "1.2.0",
            "_model_name": "LayoutModel",
            "_view_count": null,
            "_view_module": "@jupyter-widgets/base",
            "_view_module_version": "1.2.0",
            "_view_name": "LayoutView",
            "align_content": null,
            "align_items": null,
            "align_self": null,
            "border": null,
            "bottom": null,
            "display": null,
            "flex": null,
            "flex_flow": null,
            "grid_area": null,
            "grid_auto_columns": null,
            "grid_auto_flow": null,
            "grid_auto_rows": null,
            "grid_column": null,
            "grid_gap": null,
            "grid_row": null,
            "grid_template_areas": null,
            "grid_template_columns": null,
            "grid_template_rows": null,
            "height": null,
            "justify_content": null,
            "justify_items": null,
            "left": null,
            "margin": null,
            "max_height": null,
            "max_width": null,
            "min_height": null,
            "min_width": null,
            "object_fit": null,
            "object_position": null,
            "order": null,
            "overflow": null,
            "overflow_x": null,
            "overflow_y": null,
            "padding": null,
            "right": null,
            "top": null,
            "visibility": null,
            "width": null
          }
        },
        "7a3911125d2142349a038809efc0e6e4": {
          "model_module": "@jupyter-widgets/controls",
          "model_module_version": "1.5.0",
          "model_name": "HTMLModel",
          "state": {
            "_dom_classes": [],
            "_model_module": "@jupyter-widgets/controls",
            "_model_module_version": "1.5.0",
            "_model_name": "HTMLModel",
            "_view_count": null,
            "_view_module": "@jupyter-widgets/controls",
            "_view_module_version": "1.5.0",
            "_view_name": "HTMLView",
            "description": "",
            "description_tooltip": null,
            "layout": "IPY_MODEL_d69dbdd5d1d849e8859163037391969c",
            "placeholder": "​",
            "style": "IPY_MODEL_ac7a457b76414f648168b39bf321d714",
            "value": " 9.09M/9.09M [00:01&lt;00:00, 8.52MB/s]"
          }
        },
        "8735f9c1ffd94aa1890de8e01856f594": {
          "model_module": "@jupyter-widgets/controls",
          "model_module_version": "1.5.0",
          "model_name": "FloatProgressModel",
          "state": {
            "_dom_classes": [],
            "_model_module": "@jupyter-widgets/controls",
            "_model_module_version": "1.5.0",
            "_model_name": "FloatProgressModel",
            "_view_count": null,
            "_view_module": "@jupyter-widgets/controls",
            "_view_module_version": "1.5.0",
            "_view_name": "ProgressView",
            "bar_style": "success",
            "description": "",
            "description_tooltip": null,
            "layout": "IPY_MODEL_bbdb551844ce4c9790c20d2498125e26",
            "max": 444,
            "min": 0,
            "orientation": "horizontal",
            "style": "IPY_MODEL_b3e6c79f950a40b3b247fc3cbc6570d7",
            "value": 444
          }
        },
        "8f46325d1d0c47a2b8da4651d1b1c5d9": {
          "model_module": "@jupyter-widgets/base",
          "model_module_version": "1.2.0",
          "model_name": "LayoutModel",
          "state": {
            "_model_module": "@jupyter-widgets/base",
            "_model_module_version": "1.2.0",
            "_model_name": "LayoutModel",
            "_view_count": null,
            "_view_module": "@jupyter-widgets/base",
            "_view_module_version": "1.2.0",
            "_view_name": "LayoutView",
            "align_content": null,
            "align_items": null,
            "align_self": null,
            "border": null,
            "bottom": null,
            "display": null,
            "flex": null,
            "flex_flow": null,
            "grid_area": null,
            "grid_auto_columns": null,
            "grid_auto_flow": null,
            "grid_auto_rows": null,
            "grid_column": null,
            "grid_gap": null,
            "grid_row": null,
            "grid_template_areas": null,
            "grid_template_columns": null,
            "grid_template_rows": null,
            "height": null,
            "justify_content": null,
            "justify_items": null,
            "left": null,
            "margin": null,
            "max_height": null,
            "max_width": null,
            "min_height": null,
            "min_width": null,
            "object_fit": null,
            "object_position": null,
            "order": null,
            "overflow": null,
            "overflow_x": null,
            "overflow_y": null,
            "padding": null,
            "right": null,
            "top": null,
            "visibility": null,
            "width": null
          }
        },
        "8fdcaca41fb44b4eb46ab0c27fe9060e": {
          "model_module": "@jupyter-widgets/controls",
          "model_module_version": "1.5.0",
          "model_name": "HTMLModel",
          "state": {
            "_dom_classes": [],
            "_model_module": "@jupyter-widgets/controls",
            "_model_module_version": "1.5.0",
            "_model_name": "HTMLModel",
            "_view_count": null,
            "_view_module": "@jupyter-widgets/controls",
            "_view_module_version": "1.5.0",
            "_view_name": "HTMLView",
            "description": "",
            "description_tooltip": null,
            "layout": "IPY_MODEL_a0357ebb32c44871b90a2369d5f74121",
            "placeholder": "​",
            "style": "IPY_MODEL_f92746cca1004fc889cbbc8f98644454",
            "value": " 444/444 [00:00&lt;00:00, 48.8kB/s]"
          }
        },
        "981b9858e6184918b75ce6c76ea8d0db": {
          "model_module": "@jupyter-widgets/controls",
          "model_module_version": "1.5.0",
          "model_name": "DescriptionStyleModel",
          "state": {
            "_model_module": "@jupyter-widgets/controls",
            "_model_module_version": "1.5.0",
            "_model_name": "DescriptionStyleModel",
            "_view_count": null,
            "_view_module": "@jupyter-widgets/base",
            "_view_module_version": "1.2.0",
            "_view_name": "StyleView",
            "description_width": ""
          }
        },
        "a0357ebb32c44871b90a2369d5f74121": {
          "model_module": "@jupyter-widgets/base",
          "model_module_version": "1.2.0",
          "model_name": "LayoutModel",
          "state": {
            "_model_module": "@jupyter-widgets/base",
            "_model_module_version": "1.2.0",
            "_model_name": "LayoutModel",
            "_view_count": null,
            "_view_module": "@jupyter-widgets/base",
            "_view_module_version": "1.2.0",
            "_view_name": "LayoutView",
            "align_content": null,
            "align_items": null,
            "align_self": null,
            "border": null,
            "bottom": null,
            "display": null,
            "flex": null,
            "flex_flow": null,
            "grid_area": null,
            "grid_auto_columns": null,
            "grid_auto_flow": null,
            "grid_auto_rows": null,
            "grid_column": null,
            "grid_gap": null,
            "grid_row": null,
            "grid_template_areas": null,
            "grid_template_columns": null,
            "grid_template_rows": null,
            "height": null,
            "justify_content": null,
            "justify_items": null,
            "left": null,
            "margin": null,
            "max_height": null,
            "max_width": null,
            "min_height": null,
            "min_width": null,
            "object_fit": null,
            "object_position": null,
            "order": null,
            "overflow": null,
            "overflow_x": null,
            "overflow_y": null,
            "padding": null,
            "right": null,
            "top": null,
            "visibility": null,
            "width": null
          }
        },
        "ac7a457b76414f648168b39bf321d714": {
          "model_module": "@jupyter-widgets/controls",
          "model_module_version": "1.5.0",
          "model_name": "DescriptionStyleModel",
          "state": {
            "_model_module": "@jupyter-widgets/controls",
            "_model_module_version": "1.5.0",
            "_model_name": "DescriptionStyleModel",
            "_view_count": null,
            "_view_module": "@jupyter-widgets/base",
            "_view_module_version": "1.2.0",
            "_view_name": "StyleView",
            "description_width": ""
          }
        },
        "b3e6c79f950a40b3b247fc3cbc6570d7": {
          "model_module": "@jupyter-widgets/controls",
          "model_module_version": "1.5.0",
          "model_name": "ProgressStyleModel",
          "state": {
            "_model_module": "@jupyter-widgets/controls",
            "_model_module_version": "1.5.0",
            "_model_name": "ProgressStyleModel",
            "_view_count": null,
            "_view_module": "@jupyter-widgets/base",
            "_view_module_version": "1.2.0",
            "_view_name": "StyleView",
            "bar_color": null,
            "description_width": ""
          }
        },
        "bbdb551844ce4c9790c20d2498125e26": {
          "model_module": "@jupyter-widgets/base",
          "model_module_version": "1.2.0",
          "model_name": "LayoutModel",
          "state": {
            "_model_module": "@jupyter-widgets/base",
            "_model_module_version": "1.2.0",
            "_model_name": "LayoutModel",
            "_view_count": null,
            "_view_module": "@jupyter-widgets/base",
            "_view_module_version": "1.2.0",
            "_view_name": "LayoutView",
            "align_content": null,
            "align_items": null,
            "align_self": null,
            "border": null,
            "bottom": null,
            "display": null,
            "flex": null,
            "flex_flow": null,
            "grid_area": null,
            "grid_auto_columns": null,
            "grid_auto_flow": null,
            "grid_auto_rows": null,
            "grid_column": null,
            "grid_gap": null,
            "grid_row": null,
            "grid_template_areas": null,
            "grid_template_columns": null,
            "grid_template_rows": null,
            "height": null,
            "justify_content": null,
            "justify_items": null,
            "left": null,
            "margin": null,
            "max_height": null,
            "max_width": null,
            "min_height": null,
            "min_width": null,
            "object_fit": null,
            "object_position": null,
            "order": null,
            "overflow": null,
            "overflow_x": null,
            "overflow_y": null,
            "padding": null,
            "right": null,
            "top": null,
            "visibility": null,
            "width": null
          }
        },
        "bbe94256128948a38f37958c14c9c980": {
          "model_module": "@jupyter-widgets/controls",
          "model_module_version": "1.5.0",
          "model_name": "ProgressStyleModel",
          "state": {
            "_model_module": "@jupyter-widgets/controls",
            "_model_module_version": "1.5.0",
            "_model_name": "ProgressStyleModel",
            "_view_count": null,
            "_view_module": "@jupyter-widgets/base",
            "_view_module_version": "1.2.0",
            "_view_name": "StyleView",
            "bar_color": null,
            "description_width": ""
          }
        },
        "bcca64afaad844d7a4b1ffc73dc924e3": {
          "model_module": "@jupyter-widgets/controls",
          "model_module_version": "1.5.0",
          "model_name": "FloatProgressModel",
          "state": {
            "_dom_classes": [],
            "_model_module": "@jupyter-widgets/controls",
            "_model_module_version": "1.5.0",
            "_model_name": "FloatProgressModel",
            "_view_count": null,
            "_view_module": "@jupyter-widgets/controls",
            "_view_module_version": "1.5.0",
            "_view_name": "ProgressView",
            "bar_style": "success",
            "description": "",
            "description_tooltip": null,
            "layout": "IPY_MODEL_0e9bbbd2ea5f46e0bedda08ba3bad3f3",
            "max": 9085140,
            "min": 0,
            "orientation": "horizontal",
            "style": "IPY_MODEL_20b38ccbddfe48fab25977fe37efb070",
            "value": 9085140
          }
        },
        "cb48d541db004aad8ca3aaee7ccac6cf": {
          "model_module": "@jupyter-widgets/base",
          "model_module_version": "1.2.0",
          "model_name": "LayoutModel",
          "state": {
            "_model_module": "@jupyter-widgets/base",
            "_model_module_version": "1.2.0",
            "_model_name": "LayoutModel",
            "_view_count": null,
            "_view_module": "@jupyter-widgets/base",
            "_view_module_version": "1.2.0",
            "_view_name": "LayoutView",
            "align_content": null,
            "align_items": null,
            "align_self": null,
            "border": null,
            "bottom": null,
            "display": null,
            "flex": null,
            "flex_flow": null,
            "grid_area": null,
            "grid_auto_columns": null,
            "grid_auto_flow": null,
            "grid_auto_rows": null,
            "grid_column": null,
            "grid_gap": null,
            "grid_row": null,
            "grid_template_areas": null,
            "grid_template_columns": null,
            "grid_template_rows": null,
            "height": null,
            "justify_content": null,
            "justify_items": null,
            "left": null,
            "margin": null,
            "max_height": null,
            "max_width": null,
            "min_height": null,
            "min_width": null,
            "object_fit": null,
            "object_position": null,
            "order": null,
            "overflow": null,
            "overflow_x": null,
            "overflow_y": null,
            "padding": null,
            "right": null,
            "top": null,
            "visibility": null,
            "width": null
          }
        },
        "d69dbdd5d1d849e8859163037391969c": {
          "model_module": "@jupyter-widgets/base",
          "model_module_version": "1.2.0",
          "model_name": "LayoutModel",
          "state": {
            "_model_module": "@jupyter-widgets/base",
            "_model_module_version": "1.2.0",
            "_model_name": "LayoutModel",
            "_view_count": null,
            "_view_module": "@jupyter-widgets/base",
            "_view_module_version": "1.2.0",
            "_view_name": "LayoutView",
            "align_content": null,
            "align_items": null,
            "align_self": null,
            "border": null,
            "bottom": null,
            "display": null,
            "flex": null,
            "flex_flow": null,
            "grid_area": null,
            "grid_auto_columns": null,
            "grid_auto_flow": null,
            "grid_auto_rows": null,
            "grid_column": null,
            "grid_gap": null,
            "grid_row": null,
            "grid_template_areas": null,
            "grid_template_columns": null,
            "grid_template_rows": null,
            "height": null,
            "justify_content": null,
            "justify_items": null,
            "left": null,
            "margin": null,
            "max_height": null,
            "max_width": null,
            "min_height": null,
            "min_width": null,
            "object_fit": null,
            "object_position": null,
            "order": null,
            "overflow": null,
            "overflow_x": null,
            "overflow_y": null,
            "padding": null,
            "right": null,
            "top": null,
            "visibility": null,
            "width": null
          }
        },
        "d7ab1cfb6ee14241b39a42f6d36fe765": {
          "model_module": "@jupyter-widgets/controls",
          "model_module_version": "1.5.0",
          "model_name": "HTMLModel",
          "state": {
            "_dom_classes": [],
            "_model_module": "@jupyter-widgets/controls",
            "_model_module_version": "1.5.0",
            "_model_name": "HTMLModel",
            "_view_count": null,
            "_view_module": "@jupyter-widgets/controls",
            "_view_module_version": "1.5.0",
            "_view_name": "HTMLView",
            "description": "",
            "description_tooltip": null,
            "layout": "IPY_MODEL_666d53f913014b4ba96a912744487566",
            "placeholder": "​",
            "style": "IPY_MODEL_00b3da6cf13a444fb2007fe588084d5f",
            "value": "tokenizer_config.json: 100%"
          }
        },
        "de818740b76145e183b3237d7ff75bc3": {
          "model_module": "@jupyter-widgets/controls",
          "model_module_version": "1.5.0",
          "model_name": "DescriptionStyleModel",
          "state": {
            "_model_module": "@jupyter-widgets/controls",
            "_model_module_version": "1.5.0",
            "_model_name": "DescriptionStyleModel",
            "_view_count": null,
            "_view_module": "@jupyter-widgets/base",
            "_view_module_version": "1.2.0",
            "_view_name": "StyleView",
            "description_width": ""
          }
        },
        "deb32c93ea814027b2bac91ffbd697c3": {
          "model_module": "@jupyter-widgets/controls",
          "model_module_version": "1.5.0",
          "model_name": "HBoxModel",
          "state": {
            "_dom_classes": [],
            "_model_module": "@jupyter-widgets/controls",
            "_model_module_version": "1.5.0",
            "_model_name": "HBoxModel",
            "_view_count": null,
            "_view_module": "@jupyter-widgets/controls",
            "_view_module_version": "1.5.0",
            "_view_name": "HBoxView",
            "box_style": "",
            "children": [
              "IPY_MODEL_2e5bad9b6d8b4587a2af9e11ec99812e",
              "IPY_MODEL_6dcc35ceed054d5093f77dd0a993504f",
              "IPY_MODEL_16b6d5cfd2374ca98b9a0b1bbb9dc7c3"
            ],
            "layout": "IPY_MODEL_31e5fa603c304ce3bb46cab1b30672a9"
          }
        },
        "e48a0a0022db4563b4431c7f122f2777": {
          "model_module": "@jupyter-widgets/base",
          "model_module_version": "1.2.0",
          "model_name": "LayoutModel",
          "state": {
            "_model_module": "@jupyter-widgets/base",
            "_model_module_version": "1.2.0",
            "_model_name": "LayoutModel",
            "_view_count": null,
            "_view_module": "@jupyter-widgets/base",
            "_view_module_version": "1.2.0",
            "_view_name": "LayoutView",
            "align_content": null,
            "align_items": null,
            "align_self": null,
            "border": null,
            "bottom": null,
            "display": null,
            "flex": null,
            "flex_flow": null,
            "grid_area": null,
            "grid_auto_columns": null,
            "grid_auto_flow": null,
            "grid_auto_rows": null,
            "grid_column": null,
            "grid_gap": null,
            "grid_row": null,
            "grid_template_areas": null,
            "grid_template_columns": null,
            "grid_template_rows": null,
            "height": null,
            "justify_content": null,
            "justify_items": null,
            "left": null,
            "margin": null,
            "max_height": null,
            "max_width": null,
            "min_height": null,
            "min_width": null,
            "object_fit": null,
            "object_position": null,
            "order": null,
            "overflow": null,
            "overflow_x": null,
            "overflow_y": null,
            "padding": null,
            "right": null,
            "top": null,
            "visibility": null,
            "width": null
          }
        },
        "f52ab2db7baf4ba782f609cd1d3731f6": {
          "model_module": "@jupyter-widgets/base",
          "model_module_version": "1.2.0",
          "model_name": "LayoutModel",
          "state": {
            "_model_module": "@jupyter-widgets/base",
            "_model_module_version": "1.2.0",
            "_model_name": "LayoutModel",
            "_view_count": null,
            "_view_module": "@jupyter-widgets/base",
            "_view_module_version": "1.2.0",
            "_view_name": "LayoutView",
            "align_content": null,
            "align_items": null,
            "align_self": null,
            "border": null,
            "bottom": null,
            "display": null,
            "flex": null,
            "flex_flow": null,
            "grid_area": null,
            "grid_auto_columns": null,
            "grid_auto_flow": null,
            "grid_auto_rows": null,
            "grid_column": null,
            "grid_gap": null,
            "grid_row": null,
            "grid_template_areas": null,
            "grid_template_columns": null,
            "grid_template_rows": null,
            "height": null,
            "justify_content": null,
            "justify_items": null,
            "left": null,
            "margin": null,
            "max_height": null,
            "max_width": null,
            "min_height": null,
            "min_width": null,
            "object_fit": null,
            "object_position": null,
            "order": null,
            "overflow": null,
            "overflow_x": null,
            "overflow_y": null,
            "padding": null,
            "right": null,
            "top": null,
            "visibility": null,
            "width": null
          }
        },
        "f92746cca1004fc889cbbc8f98644454": {
          "model_module": "@jupyter-widgets/controls",
          "model_module_version": "1.5.0",
          "model_name": "DescriptionStyleModel",
          "state": {
            "_model_module": "@jupyter-widgets/controls",
            "_model_module_version": "1.5.0",
            "_model_name": "DescriptionStyleModel",
            "_view_count": null,
            "_view_module": "@jupyter-widgets/base",
            "_view_module_version": "1.2.0",
            "_view_name": "StyleView",
            "description_width": ""
          }
        },
        "fefc5a3785cc46a0ba970e6bc403c815": {
          "model_module": "@jupyter-widgets/controls",
          "model_module_version": "1.5.0",
          "model_name": "HBoxModel",
          "state": {
            "_dom_classes": [],
            "_model_module": "@jupyter-widgets/controls",
            "_model_module_version": "1.5.0",
            "_model_name": "HBoxModel",
            "_view_count": null,
            "_view_module": "@jupyter-widgets/controls",
            "_view_module_version": "1.5.0",
            "_view_name": "HBoxView",
            "box_style": "",
            "children": [
              "IPY_MODEL_d7ab1cfb6ee14241b39a42f6d36fe765",
              "IPY_MODEL_5ea4adf815fe449e8834feb4a81de54a",
              "IPY_MODEL_595748bbc58447e1adc0decdbec97c71"
            ],
            "layout": "IPY_MODEL_15f55590a91449ca9364563479fe2ebe"
          }
        }
      }
    }
  },
  "nbformat": 4,
  "nbformat_minor": 0
}
